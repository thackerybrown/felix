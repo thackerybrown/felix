{
 "cells": [
  {
   "cell_type": "code",
   "execution_count": 1,
   "metadata": {
    "collapsed": true
   },
   "outputs": [],
   "source": [
    "import os\n",
    "import os.path as op\n",
    "from numpy import arange\n",
    "from numpy.random import permutation\n",
    "import nibabel as nib\n",
    "from surfer import Brain"
   ]
  },
  {
   "cell_type": "code",
   "execution_count": 7,
   "metadata": {
    "collapsed": true
   },
   "outputs": [],
   "source": [
    "%gui qt"
   ]
  },
  {
   "cell_type": "code",
   "execution_count": 4,
   "metadata": {
    "collapsed": true
   },
   "outputs": [],
   "source": [
    "subject_id = \"fsaverage\"\n",
    "subjects_dir = '/Volumes/group/awagner/sgagnon/RM/data' # os.environ[\"SUBJECTS_DIR\"]"
   ]
  },
  {
   "cell_type": "markdown",
   "metadata": {},
   "source": [
    "### Plot coordinates on brain"
   ]
  },
  {
   "cell_type": "code",
   "execution_count": 29,
   "metadata": {
    "collapsed": false
   },
   "outputs": [],
   "source": [
    "coords = dict(green = [[-15,-66,54], #Hutchinson 2014 SPL (task>specific)\n",
    "                      [-9,-72,57], #Hutchinson 2015 (decision uncertainty)\n",
    "                      [-11,-57,52], #Fleck 2006 (low>high conf)\n",
    "                      ],\n",
    "                red = [[-30,-54,39], #Hutchinson 2014 (item only > cr)\n",
    "                       [-39,-54,45], #Hutchinson 2015 (linear memory strength)\n",
    "                       [-39,-55,36], #Wheeler/Buckner 2004 (K>N)\n",
    "                       [-38,-76,28], #Daselaar 2006 (increase famil)\n",
    "                       [-33,-60,36], #Yonelinas 2005 (increase famil)\n",
    "                       [-3,-76,45], #Montaldi 2006 (increase famil)\n",
    "                       [-39,-47,47], #Montaldi 2006 (increase famil)],\n",
    "                       [-37,-59,42], #Sharot 2004 (K>N)\n",
    "                       [-36,-80,33], #Sharot 2004 (K>N)\n",
    "                       ],\n",
    "                yellow = [[-39,-63,39], #Hutchinson 2014 (source>item)\n",
    "                          [-50,-41,25], #Eldridge etal 2000 (R>K)\n",
    "                          [-30,-79,43], #Fenker etal 2005 (R>K)\n",
    "                          [-42,-72,39], #Henson etal 1999 (R>K)\n",
    "                          [-43,-67,40], #Wheeler/Buckner 2004 (R>K)\n",
    "                          [-53,-25,18], #Yonelinas 2005 (R>K)\n",
    "                          [-42,-68,31], #Montaldi 2006 (R>K)\n",
    "                          [-10,-68,29], #Sharot 2004 (R>K, R>N)\n",
    "                          [-52,-59,24], #Sharot 2004 (R>K, R>N)\n",
    "                         ],\n",
    "                orange = [[-39,-30,45], #Vilberg/Rugg 2007 (famil (K>M, exclusive R>K))\n",
    "                          [-30,-63,45]]) #Vilberg/Rugg 2007 (famil (K>M, exclusive R>K))])"
   ]
  },
  {
   "cell_type": "code",
   "execution_count": 30,
   "metadata": {
    "collapsed": false
   },
   "outputs": [
    {
     "data": {
      "text/plain": [
       "((-119.99999999999999,\n",
       "  59.999999999999993,\n",
       "  419.26721191406256,\n",
       "  array([ 0.,  0.,  0.])),\n",
       " 49.10600000000001)"
      ]
     },
     "execution_count": 30,
     "metadata": {},
     "output_type": "execute_result"
    }
   ],
   "source": [
    "hemi='lh'\n",
    "surf='semi7'\n",
    "\n",
    "b = Brain(subject_id, hemi, surf, background='white')\n",
    "\n",
    "for color in coords.keys():\n",
    "    for coord in coords[color]:\n",
    "        b.add_foci(coord, map_surface=\"white\", \n",
    "                   color=color, alpha=.8, scale_factor=.5)\n",
    "    \n",
    "b.show_view('parietal')"
   ]
  },
  {
   "cell_type": "code",
   "execution_count": null,
   "metadata": {
    "collapsed": true
   },
   "outputs": [],
   "source": []
  }
 ],
 "metadata": {
  "kernelspec": {
   "display_name": "Python 2",
   "language": "python",
   "name": "python2"
  },
  "language_info": {
   "codemirror_mode": {
    "name": "ipython",
    "version": 2
   },
   "file_extension": ".py",
   "mimetype": "text/x-python",
   "name": "python",
   "nbconvert_exporter": "python",
   "pygments_lexer": "ipython2",
   "version": "2.7.12"
  }
 },
 "nbformat": 4,
 "nbformat_minor": 0
}
