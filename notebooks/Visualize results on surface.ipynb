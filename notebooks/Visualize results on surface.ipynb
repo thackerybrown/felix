{
 "cells": [
  {
   "cell_type": "code",
   "execution_count": 1,
   "metadata": {
    "collapsed": true
   },
   "outputs": [],
   "source": [
    "import os\n",
    "import os.path as op\n",
    "from numpy import arange\n",
    "from numpy.random import permutation\n",
    "import nibabel as nib\n",
    "from surfer import Brain"
   ]
  },
  {
   "cell_type": "code",
   "execution_count": 7,
   "metadata": {
    "collapsed": true
   },
   "outputs": [],
   "source": [
    "%gui qt"
   ]
  },
  {
   "cell_type": "code",
   "execution_count": 4,
   "metadata": {
    "collapsed": true
   },
   "outputs": [],
   "source": [
    "subject_id = \"fsaverage\"\n",
    "subjects_dir = '/Volumes/group/awagner/sgagnon/RM/data' # os.environ[\"SUBJECTS_DIR\"]"
   ]
  },
  {
   "cell_type": "markdown",
   "metadata": {},
   "source": [
    "### Plot coordinates on brain"
   ]
  },
  {
   "cell_type": "code",
   "execution_count": 31,
   "metadata": {
    "collapsed": false
   },
   "outputs": [],
   "source": [
    "coords = dict(green = [[-15,-66,54], #Hutchinson 2014 SPL (task>specific)\n",
    "                      [-9,-72,57], #Hutchinson 2015 (decision uncertainty)\n",
    "                      ],\n",
    "                red = [[-30,-54,39], #Hutchinson 2014 (item only > cr)\n",
    "                       [-39,-54,45], #Hutchinson 2015 (linear memory strength)\n",
    "                       ],\n",
    "                yellow = [[-39,-63,39], #Hutchinson 2014 (source>item)\n",
    "                         ],\n",
    "                orange = [[-39,-30,45], #Vilberg/Rugg 2007 (famil (K>M, exclusive R>K))\n",
    "                          [-30,-63,45]]) #Vilberg/Rugg 2007 (famil (K>M, exclusive R>K))])"
   ]
  },
  {
   "cell_type": "code",
   "execution_count": 32,
   "metadata": {
    "collapsed": false
   },
   "outputs": [
    {
     "data": {
      "text/plain": [
       "((-119.99999999999999,\n",
       "  59.999999999999993,\n",
       "  419.26721191406256,\n",
       "  array([ 0.,  0.,  0.])),\n",
       " 49.10600000000001)"
      ]
     },
     "execution_count": 32,
     "metadata": {},
     "output_type": "execute_result"
    }
   ],
   "source": [
    "hemi='lh'\n",
    "surf='semi7'\n",
    "\n",
    "b = Brain(subject_id, hemi, surf, background='white')\n",
    "\n",
    "for color in coords.keys():\n",
    "    for coord in coords[color]:\n",
    "        b.add_foci(coord, map_surface=\"white\", \n",
    "                   color=color, alpha=.8, scale_factor=.5)\n",
    "    \n",
    "b.show_view('parietal')"
   ]
  },
  {
   "cell_type": "code",
   "execution_count": null,
   "metadata": {
    "collapsed": true
   },
   "outputs": [],
   "source": []
  }
 ],
 "metadata": {
  "kernelspec": {
   "display_name": "Python 2",
   "language": "python",
   "name": "python2"
  },
  "language_info": {
   "codemirror_mode": {
    "name": "ipython",
    "version": 2
   },
   "file_extension": ".py",
   "mimetype": "text/x-python",
   "name": "python",
   "nbconvert_exporter": "python",
   "pygments_lexer": "ipython2",
   "version": "2.7.12"
  }
 },
 "nbformat": 4,
 "nbformat_minor": 0
}
